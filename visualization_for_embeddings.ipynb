{
  "nbformat": 4,
  "nbformat_minor": 0,
  "metadata": {
    "colab": {
      "name": "visualization for embeddings.ipynb",
      "provenance": [],
      "collapsed_sections": []
    },
    "kernelspec": {
      "name": "python3",
      "display_name": "Python 3"
    },
    "language_info": {
      "name": "python"
    }
  },
  "cells": [
    {
      "cell_type": "code",
      "metadata": {
        "id": "bAU7H9OVWZBZ"
      },
      "source": [
        "import torch \n",
        "import numpy as np\n",
        "import matplotlib.pyplot as plt\n",
        "import seaborn as sns\n",
        "from sklearn.manifold import TSNE\n",
        "from librosa.util import find_files\n",
        "from tqdm import  tqdm\n",
        "from pathlib import Path\n",
        "import os"
      ],
      "execution_count": 23,
      "outputs": []
    },
    {
      "cell_type": "code",
      "source": [
        "target_dirs='/content/embeddings'"
      ],
      "metadata": {
        "id": "UTUjz9K29SqF"
      },
      "execution_count": 21,
      "outputs": []
    },
    {
      "cell_type": "code",
      "source": [
        "def get_targets (target_dirs):\n",
        "  targets_temp=[]\n",
        "  paths=[]\n",
        "  tar_dir_path = Path(target_dirs)\n",
        "  for tar_dir in [x1 for x1 in tar_dir_path.iterdir() if x1.is_dir()]:\n",
        "    for root,dires,files in os.walk(tar_dir):\n",
        "      print(root,dires,files)\n",
        "      for file in files:\n",
        "        paths.append(os.path.join(root,file))\n",
        "        paths.sort()\n",
        "  for tar_path in tqdm(paths, ncols=0, desc=\"Preprocess\"):\n",
        "    targets_temp.append(np.load(tar_path))\n",
        "  return targets_temp"
      ],
      "metadata": {
        "id": "2U9aZDv28iyj"
      },
      "execution_count": 25,
      "outputs": []
    },
    {
      "cell_type": "code",
      "source": [
        "#dowmload the embedding into embs\n",
        "embs=get_targets(target_dirs)"
      ],
      "metadata": {
        "colab": {
          "base_uri": "https://localhost:8080/"
        },
        "id": "WQ-Z-iFU9q-t",
        "outputId": "9234cbba-2f80-4adb-aa6c-2a5ab56561f7"
      },
      "execution_count": 26,
      "outputs": [
        {
          "output_type": "stream",
          "name": "stdout",
          "text": [
            "/content/embeddings/.ipynb_checkpoints [] []\n",
            "/content/embeddings/b [] ['bss0.npy']\n",
            "/content/embeddings/a [] ['ass0.npy', 'ass1.npy']\n"
          ]
        },
        {
          "output_type": "stream",
          "name": "stderr",
          "text": [
            "Preprocess: 100% 3/3 [00:00<00:00, 1307.72it/s]\n"
          ]
        }
      ]
    },
    {
      "cell_type": "code",
      "source": [
        "embs[1].shape"
      ],
      "metadata": {
        "colab": {
          "base_uri": "https://localhost:8080/"
        },
        "id": "esqCb_fc5uMP",
        "outputId": "84ab32c8-61ac-48be-f4ae-b5383d32168e"
      },
      "execution_count": 27,
      "outputs": [
        {
          "output_type": "execute_result",
          "data": {
            "text/plain": [
              "(128,)"
            ]
          },
          "metadata": {},
          "execution_count": 27
        }
      ]
    },
    {
      "cell_type": "code",
      "metadata": {
        "colab": {
          "base_uri": "https://localhost:8080/",
          "height": 499
        },
        "id": "ybjlyEyjXjcg",
        "outputId": "0bc86be4-a6c2-4d91-f3b5-60ac20600f9c"
      },
      "source": [
        "#visulize the embeddings\n",
        "tsne = TSNE(n_components=2, verbose=1, perplexity=40, n_iter=300)\n",
        "#embs=[a,b,c]  \n",
        "spkr_names=['1','1','2'] #this list should fit the speaker of the embeddings\n",
        "transformed = tsne.fit_transform(embs)\n",
        "\n",
        "data = {\n",
        "        \"dim-1\": transformed[:, 0],\n",
        "        \"dim-2\": transformed[:, 1],\n",
        "        \"label\": spkr_names,\n",
        "    }\n",
        "\n",
        "plt.figure()\n",
        "sns.scatterplot(\n",
        "        x=\"dim-1\",\n",
        "        y=\"dim-2\",\n",
        "        hue=\"label\",\n",
        "        palette=sns.color_palette(n_colors=2),\n",
        "        data=data,\n",
        "        legend=\"full\",\n",
        "    )\n",
        "plt.legend(loc=\"center left\", bbox_to_anchor=(1, 0.5))\n",
        "plt.tight_layout()\n"
      ],
      "execution_count": 29,
      "outputs": [
        {
          "output_type": "stream",
          "name": "stderr",
          "text": [
            "/usr/local/lib/python3.7/dist-packages/sklearn/manifold/_t_sne.py:783: FutureWarning: The default initialization in TSNE will change from 'random' to 'pca' in 1.2.\n",
            "  FutureWarning,\n",
            "/usr/local/lib/python3.7/dist-packages/sklearn/manifold/_t_sne.py:793: FutureWarning: The default learning rate in TSNE will change from 200.0 to 'auto' in 1.2.\n",
            "  FutureWarning,\n"
          ]
        },
        {
          "output_type": "stream",
          "name": "stdout",
          "text": [
            "[t-SNE] Computing 2 nearest neighbors...\n",
            "[t-SNE] Indexed 3 samples in 0.000s...\n",
            "[t-SNE] Computed neighbors for 3 samples in 0.001s...\n",
            "[t-SNE] Computed conditional probabilities for sample 3 / 3\n",
            "[t-SNE] Mean sigma: 1125899906842624.000000\n",
            "[t-SNE] KL divergence after 250 iterations with early exaggeration: 33.533897\n",
            "[t-SNE] KL divergence after 300 iterations: 0.000116\n"
          ]
        },
        {
          "output_type": "display_data",
          "data": {
            "text/plain": [
              "<Figure size 432x288 with 1 Axes>"
            ],
            "image/png": "[encoded data removed]"
          },
          "metadata": {
            "needs_background": "light"
          }
        }
      ]
    },
    {
      "cell_type": "code",
      "source": [
        ""
      ],
      "metadata": {
        "colab": {
          "base_uri": "https://localhost:8080/"
        },
        "id": "DHDY6QyZpkNt",
        "outputId": "eb630cff-7ef4-48ff-a7f5-912ca096c183"
      },
      "execution_count": null,
      "outputs": [
        {
          "output_type": "stream",
          "name": "stdout",
          "text": [
            "['/content/drive/MyDrive/SSB0005_flac/8o6k8-frop8.flac', '/content/drive/MyDrive/SSB0005_flac/91z6h-epi03.flac', '/content/drive/MyDrive/SSB0005_flac/b2egl-a32hn.flac', '/content/drive/MyDrive/SSB0005_flac/dvwn4-1urcn.flac', '/content/drive/MyDrive/SSB0005_flac/egp90-mbpup.flac', '/content/drive/MyDrive/SSB0005_flac/j6lyh-64m0k.flac', '/content/drive/MyDrive/SSB0005_flac/y62c2-kz0ut.flac', '/content/drive/MyDrive/SSB0005_flac/z3c34-6xpo0.flac', '/content/drive/MyDrive/SSB0005_flac/zejki-5w77d.flac', '/content/drive/MyDrive/SSB0005_flac/zl9mp-6cktg.flac']\n"
          ]
        },
        {
          "output_type": "stream",
          "name": "stderr",
          "text": [
            "Preprocess: 100% 10/10 [00:10<00:00,  1.07s/it]\n"
          ]
        }
      ]
    },
    {
      "cell_type": "code",
      "source": [
        "!cd /content"
      ],
      "metadata": {
        "id": "GTBmxA6MxDO0"
      },
      "execution_count": null,
      "outputs": []
    },
    {
      "cell_type": "code",
      "source": [
        "from google.colab import drive\n",
        "drive.mount('/content/drive')"
      ],
      "metadata": {
        "colab": {
          "base_uri": "https://localhost:8080/"
        },
        "id": "PV--YR2Rprcb",
        "outputId": "2b18d303-1d2d-446a-d54b-a461bcd60e9e"
      },
      "execution_count": null,
      "outputs": [
        {
          "output_type": "stream",
          "name": "stdout",
          "text": [
            "Mounted at /content/drive\n"
          ]
        }
      ]
    }
  ]
}